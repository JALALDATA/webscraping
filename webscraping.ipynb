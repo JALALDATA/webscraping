{
 "cells": [
  {
   "cell_type": "markdown",
   "id": "10a3106b",
   "metadata": {},
   "source": [
    "## importing data from internet "
   ]
  },
  {
   "cell_type": "code",
   "execution_count": 1,
   "id": "ef2ea57b",
   "metadata": {},
   "outputs": [],
   "source": [
    "import numpy as np \n",
    "import pandas as pd"
   ]
  },
  {
   "cell_type": "code",
   "execution_count": 2,
   "id": "14e6a57b",
   "metadata": {},
   "outputs": [],
   "source": [
    "from bs4 import BeautifulSoup as bs "
   ]
  },
  {
   "cell_type": "markdown",
   "id": "a4a71364",
   "metadata": {},
   "source": [
    "## faire le lien "
   ]
  },
  {
   "cell_type": "code",
   "execution_count": 3,
   "id": "301fdd7a",
   "metadata": {},
   "outputs": [],
   "source": [
    "from urllib.request import urlopen "
   ]
  },
  {
   "cell_type": "code",
   "execution_count": 4,
   "id": "a9af11e5",
   "metadata": {},
   "outputs": [],
   "source": [
    "url='https://wuzzuf.net/search/jobs/?a=hpb&q=illustrator'"
   ]
  },
  {
   "cell_type": "code",
   "execution_count": 5,
   "id": "449bc743",
   "metadata": {},
   "outputs": [],
   "source": [
    "client=urlopen(url)"
   ]
  },
  {
   "cell_type": "markdown",
   "id": "e5e0e752",
   "metadata": {},
   "source": [
    "## getting the html of the code"
   ]
  },
  {
   "cell_type": "code",
   "execution_count": 6,
   "id": "316c492d",
   "metadata": {},
   "outputs": [],
   "source": [
    "html=client.read()"
   ]
  },
  {
   "cell_type": "code",
   "execution_count": 7,
   "id": "ca761a68",
   "metadata": {},
   "outputs": [],
   "source": [
    "## closing the request (connection)\n",
    "client.close()"
   ]
  },
  {
   "cell_type": "markdown",
   "id": "60d00fc8",
   "metadata": {},
   "source": [
    "## creating a html parser using beautifulsoup"
   ]
  },
  {
   "cell_type": "code",
   "execution_count": 8,
   "id": "e3d613d2",
   "metadata": {},
   "outputs": [],
   "source": [
    "# realiser le parser (html)\n",
    "soup=bs(html,\"html.parser\")\n"
   ]
  },
  {
   "cell_type": "markdown",
   "id": "14dab4c8",
   "metadata": {},
   "source": [
    "## create a container for needed data "
   ]
  },
  {
   "cell_type": "code",
   "execution_count": 9,
   "id": "6a6e1d9a",
   "metadata": {},
   "outputs": [],
   "source": [
    "# donne moi tous qui ressemble a ceci :\n",
    "container=soup.find_all('div',{'class':'css-1gatmva e1v1l3u10'})"
   ]
  },
  {
   "cell_type": "code",
   "execution_count": 10,
   "id": "2fdc6853",
   "metadata": {},
   "outputs": [
    {
     "data": {
      "text/plain": [
       "15"
      ]
     },
     "execution_count": 10,
     "metadata": {},
     "output_type": "execute_result"
    }
   ],
   "source": [
    "len(container)"
   ]
  },
  {
   "cell_type": "code",
   "execution_count": 11,
   "id": "b0aaabf4",
   "metadata": {},
   "outputs": [
    {
     "data": {
      "text/plain": [
       "'<div class=\"css-1gatmva e1v1l3u10\">\\n <style data-emotion=\"css pkv5jc\">\\n  .css-pkv5jc{position:relative;min-height:60px;}\\n </style>\\n <div class=\"css-pkv5jc\">\\n  <a href=\"https://wuzzuf.net/jobs/careers/Arabic-Localizer-Egypt-2790\" rel=\"noreferrer\" target=\"_blank\">\\n   <style data-emotion=\"css 17095x3\">\\n    .css-17095x3{position:absolute;right:0;top:0;width:60px;height:60px;object-fit:contain;object-position:center center;}\\n   </style>\\n  </a>\\n  <style data-emotion=\"css laomuu\">\\n   .css-laomuu{padding-right:60px;}\\n  </style>\\n  <div class=\"css-laomuu\">\\n   <style data-emotion=\"css m604qf\">\\n    .css-m604qf{font-size:16px;font-weight:600;font-style:normal;letter-spacing:-0.4px;line-height:24px;color:#0055D9;margin:0;}\\n   </style>\\n   <h2 class=\"css-m604qf\">\\n    <style data-emotion=\"css o171kl\">\\n     .css-o171kl{-webkit-text-decoration:none;text-decoration:none;color:inherit;}\\n    </style>\\n    <a class=\"css-o171kl\" href=\"/jobs/p/QdUoPyvbUlz8-2D-Illustrator---Alexandria-Arabic-Localizer-Alexandria-Egypt?o=1&amp;l=sp&amp;t=sj&amp;a=illustrator|search-v3|hpb\" rel=\"noreferrer\" target=\"_blank\">\\n     2D Illustrator - Alexandria\\n    </a>\\n   </h2>\\n   <style data-emotion=\"css d7j1kk\">\\n    .css-d7j1kk{margin-bottom:8px;overflow:hidden;text-overflow:ellipsis;}\\n   </style>\\n   <div class=\"css-d7j1kk\">\\n    <style data-emotion=\"css 17s97q8\">\\n     .css-17s97q8{font-size:12px;font-weight:600;font-style:normal;letter-spacing:-0.27px;line-height:19px;color:#001433;-webkit-text-decoration:none;text-decoration:none;}\\n    </style>\\n    <a class=\"css-17s97q8\" href=\"https://wuzzuf.net/jobs/careers/Arabic-Localizer-Egypt-2790\" rel=\"noreferrer\" target=\"_blank\">\\n     Arabic Localizer -\\n    </a>\\n    <style data-emotion=\"css 5wys0k\">\\n     .css-5wys0k{font-size:12px;font-weight:600;font-style:normal;letter-spacing:-0.27px;line-height:19px;color:#4D6182;}\\n    </style>\\n    <span class=\"css-5wys0k\">\\n     San Stefano,\\n     <!-- -->\\n     Alexandria,\\n     <!-- -->\\n     Egypt\\n    </span>\\n    <style data-emotion=\"css do6t5g\">\\n     .css-do6t5g{font-size:12px;font-weight:400;font-style:normal;letter-spacing:-0.27px;line-height:19px;color:#808EA5;}\\n    </style>\\n    <div class=\"css-do6t5g\">\\n     28 days\\n     <!-- -->\\n     ago\\n    </div>\\n   </div>\\n  </div>\\n  <style data-emotion=\"css y4udm8\">\\n   .css-y4udm8{font-size:13px;font-weight:600;font-style:normal;letter-spacing:-0.3px;line-height:20px;color:#4D6182;}\\n  </style>\\n  <div class=\"css-y4udm8\">\\n   <style data-emotion=\"css 1lh32fc\">\\n    .css-1lh32fc{display:-webkit-box;display:-webkit-flex;display:-ms-flexbox;display:flex;margin-bottom:8px;-webkit-align-items:center;-webkit-box-align:center;-ms-flex-align:center;align-items:center;-webkit-box-flex-wrap:wrap;-webkit-flex-wrap:wrap;-ms-flex-wrap:wrap;flex-wrap:wrap;}\\n   </style>\\n   <div class=\"css-1lh32fc\">\\n    <style data-emotion=\"css n2jc4m\">\\n     .css-n2jc4m{display:-webkit-inline-box;display:-webkit-inline-flex;display:-ms-inline-flexbox;display:inline-flex;-webkit-align-items:center;-webkit-box-align:center;-ms-flex-align:center;align-items:center;-webkit-text-decoration:none;text-decoration:none;color:inherit;margin-bottom:4px;}\\n    </style>\\n    <a class=\"css-n2jc4m\" href=\"/a/Full-Time-Jobs-in-Egypt\">\\n     <style data-emotion=\"css adtuo7\">\\n      .css-adtuo7{cursor:pointer;padding:0 4px;border-radius:4px;}\\n     </style>\\n     <style data-emotion=\"css 1ve4b75\">\\n      .css-1ve4b75{font-size:12px;font-weight:600;display:-webkit-inline-box;display:-webkit-inline-flex;display:-ms-inline-flexbox;display:inline-flex;-webkit-align-items:center;-webkit-box-align:center;-ms-flex-align:center;align-items:center;min-height:20px;margin-right:4px;border-radius:2px;max-width:196px;white-space:nowrap;overflow:hidden;cursor:default;text-overflow:ellipsis;padding:2px 4px;background-color:#EBEDF0;color:#001433;cursor:pointer;padding:0 4px;border-radius:4px;}\\n     </style>\\n     <span class=\"css-1ve4b75 eoyjyou0\">\\n      Full Time\\n     </span>\\n    </a>\\n   </div>\\n   <div>\\n    <a class=\"css-o171kl\" href=\"/a/Entry-Level-Jobs-in-Egypt\">\\n     Entry Level\\n    </a>\\n    <span>\\n     ·\\n     <!-- -->\\n     1 - 3 Yrs of Exp\\n    </span>\\n    <a class=\"css-o171kl\" href=\"/a/Creative-Design-Art-Jobs-in-Egypt\">\\n     <!-- -->\\n     ·\\n     <!-- -->\\n     Creative/Design/Art\\n    </a>\\n    <!-- -->\\n    ·\\n    <!-- -->\\n    <style data-emotion=\"css 5x9pm1\">\\n     .css-5x9pm1{-webkit-text-decoration:none;text-decoration:none;color:inherit;max-width:calc(100vw / 2 - 32px);white-space:nowrap;overflow:hidden;text-overflow:ellipsis;display:-webkit-inline-box;display:-webkit-inline-flex;display:-ms-inline-flexbox;display:inline-flex;}\\n    </style>\\n    <a class=\"css-5x9pm1\" href=\"/a/Adobe-Illustrator-Jobs-in-Egypt\">\\n     <span>\\n      <span>\\n       Adobe\\n      </span>\\n      <strong class=\"highlight\">\\n       Illustrator\\n      </strong>\\n     </span>\\n    </a>\\n    <a class=\"css-5x9pm1\" href=\"/a/2D-Design-Jobs-in-Egypt\">\\n     <!-- -->\\n     ·\\n     <!-- -->\\n     2D Design\\n    </a>\\n    <a class=\"css-5x9pm1\" href=\"/a/Graphic-Design-Jobs-in-Egypt\">\\n     <!-- -->\\n     ·\\n     <!-- -->\\n     Graphic Design\\n    </a>\\n    <a class=\"css-5x9pm1\" href=\"/a/Design-Jobs-in-Egypt\">\\n     <!-- -->\\n     ·\\n     <!-- -->\\n     Design\\n    </a>\\n    <a class=\"css-5x9pm1\" href=\"/a/Adobe-Photoshop-Jobs-in-Egypt\">\\n     <!-- -->\\n     ·\\n     <!-- -->\\n     Adobe Photoshop\\n    </a>\\n    <a class=\"css-5x9pm1\" href=\"/a/Characters-Design-Jobs-in-Egypt\">\\n     <!-- -->\\n     ·\\n     <!-- -->\\n     Characters Design\\n    </a>\\n    <a class=\"css-5x9pm1\" href=\"/a/2D-Characters-Jobs-in-Egypt\">\\n     <!-- -->\\n     ·\\n     <!-- -->\\n     2D Characters\\n    </a>\\n    <a class=\"css-5x9pm1\" href=\"/a/Photoshop-Jobs-in-Egypt\">\\n     <!-- -->\\n     ·\\n     <!-- -->\\n     Photoshop\\n    </a>\\n    <!-- -->\\n    ·\\n    <!-- -->\\n    <a class=\"css-5x9pm1\" href=\"/a/Illustrator-Jobs-in-Egypt\">\\n     <span>\\n      <strong class=\"highlight\">\\n       Illustrator\\n      </strong>\\n     </span>\\n    </a>\\n   </div>\\n  </div>\\n </div>\\n</div>\\n'"
      ]
     },
     "execution_count": 11,
     "metadata": {},
     "output_type": "execute_result"
    }
   ],
   "source": [
    "bs.prettify(container[0])"
   ]
  },
  {
   "cell_type": "markdown",
   "id": "f506d810",
   "metadata": {},
   "source": [
    "## accessing page element "
   ]
  },
  {
   "cell_type": "code",
   "execution_count": 12,
   "id": "6e4a0bdd",
   "metadata": {},
   "outputs": [
    {
     "data": {
      "text/plain": [
       "'2D Illustrator - Alexandria'"
      ]
     },
     "execution_count": 12,
     "metadata": {},
     "output_type": "execute_result"
    }
   ],
   "source": [
    "jtitle=container[0].div.h2.text\n",
    "jtitle"
   ]
  },
  {
   "cell_type": "code",
   "execution_count": 13,
   "id": "3dd3f379",
   "metadata": {},
   "outputs": [
    {
     "data": {
      "text/plain": [
       "[<h2 class=\"css-m604qf\"><style data-emotion=\"css o171kl\">.css-o171kl{-webkit-text-decoration:none;text-decoration:none;color:inherit;}</style><a class=\"css-o171kl\" href=\"/jobs/p/QdUoPyvbUlz8-2D-Illustrator---Alexandria-Arabic-Localizer-Alexandria-Egypt?o=1&amp;l=sp&amp;t=sj&amp;a=illustrator|search-v3|hpb\" rel=\"noreferrer\" target=\"_blank\">2D Illustrator - Alexandria</a></h2>]"
      ]
     },
     "execution_count": 13,
     "metadata": {},
     "output_type": "execute_result"
    }
   ],
   "source": [
    "# ou bien \n",
    "jtitle=container[0].findAll('h2',{'class':'css-m604qf'})\n",
    "jtitle\n",
    "# parfois il y a une liste qui contient 2 dans ceci il ya 1"
   ]
  },
  {
   "cell_type": "code",
   "execution_count": 14,
   "id": "a6b1ab6c",
   "metadata": {},
   "outputs": [
    {
     "data": {
      "text/plain": [
       "'2D Illustrator - Alexandria'"
      ]
     },
     "execution_count": 14,
     "metadata": {},
     "output_type": "execute_result"
    }
   ],
   "source": [
    "jtitle[0].text"
   ]
  },
  {
   "cell_type": "code",
   "execution_count": 15,
   "id": "f226f035",
   "metadata": {},
   "outputs": [
    {
     "data": {
      "text/plain": [
       "[<a class=\"css-17s97q8\" href=\"https://wuzzuf.net/jobs/careers/Arabic-Localizer-Egypt-2790\" rel=\"noreferrer\" target=\"_blank\">Arabic Localizer -</a>]"
      ]
     },
     "execution_count": 15,
     "metadata": {},
     "output_type": "execute_result"
    }
   ],
   "source": [
    "# company name \n",
    "cname=container[0].findAll('a',{'class':'css-17s97q8'})\n",
    "cname"
   ]
  },
  {
   "cell_type": "code",
   "execution_count": 16,
   "id": "6e9ad8e2",
   "metadata": {},
   "outputs": [
    {
     "data": {
      "text/plain": [
       "'Arabic Localizer -'"
      ]
     },
     "execution_count": 16,
     "metadata": {},
     "output_type": "execute_result"
    }
   ],
   "source": [
    "cname[0].text"
   ]
  },
  {
   "cell_type": "markdown",
   "id": "c6242acd",
   "metadata": {},
   "source": [
    "## bringing all together "
   ]
  },
  {
   "cell_type": "code",
   "execution_count": 42,
   "id": "cf1eb3d3",
   "metadata": {},
   "outputs": [
    {
     "data": {
      "text/plain": [
       "32"
      ]
     },
     "execution_count": 42,
     "metadata": {},
     "output_type": "execute_result"
    }
   ],
   "source": [
    "# we create csv file where we store our data \n",
    "f=open(\"Downloads/wuzzufsite.csv\",\"w\")\n",
    "header=\"job_title,company_name,job_type\\n\"\n",
    "f.write(header)\n"
   ]
  },
  {
   "cell_type": "code",
   "execution_count": 44,
   "id": "9ff0125b",
   "metadata": {},
   "outputs": [],
   "source": [
    "for contain in container:\n",
    "    job=contain.findAll('h2',{'class':'css-m604qf'})\n",
    "    job_title=job[0].text.strip()  \n",
    "    company=contain.findAll('a',{'class':'css-17s97q8'})\n",
    "    company_name=company[0].text.strip() \n",
    "    job=contain.findAll('span',{'class':'css-1ve4b75 eoyjyou0'})\n",
    "    job_type=job[0].text.strip()\n",
    "    contenu= job_title + \",\" + company_name + \",\" + job_type + \"\\n\"\n",
    "    #print(job_title + \",\" + company_name + \",\" + job_type + \"\\n\" )\n",
    "    f.write(contenu)\n",
    "f.close()\n",
    "\n",
    "    "
   ]
  },
  {
   "cell_type": "code",
   "execution_count": 45,
   "id": "274e5dbf",
   "metadata": {},
   "outputs": [
    {
     "data": {
      "text/html": [
       "<div>\n",
       "<style scoped>\n",
       "    .dataframe tbody tr th:only-of-type {\n",
       "        vertical-align: middle;\n",
       "    }\n",
       "\n",
       "    .dataframe tbody tr th {\n",
       "        vertical-align: top;\n",
       "    }\n",
       "\n",
       "    .dataframe thead th {\n",
       "        text-align: right;\n",
       "    }\n",
       "</style>\n",
       "<table border=\"1\" class=\"dataframe\">\n",
       "  <thead>\n",
       "    <tr style=\"text-align: right;\">\n",
       "      <th></th>\n",
       "      <th>job_title</th>\n",
       "      <th>company_name</th>\n",
       "      <th>job_type</th>\n",
       "    </tr>\n",
       "  </thead>\n",
       "  <tbody>\n",
       "    <tr>\n",
       "      <th>0</th>\n",
       "      <td>2D Illustrator - Alexandria</td>\n",
       "      <td>Arabic Localizer -</td>\n",
       "      <td>Full Time</td>\n",
       "    </tr>\n",
       "    <tr>\n",
       "      <th>1</th>\n",
       "      <td>Illustrator</td>\n",
       "      <td>ProfileTree -</td>\n",
       "      <td>Full Time</td>\n",
       "    </tr>\n",
       "    <tr>\n",
       "      <th>2</th>\n",
       "      <td>Illustrator</td>\n",
       "      <td>Beyond Insurance Brokerage -</td>\n",
       "      <td>Full Time</td>\n",
       "    </tr>\n",
       "    <tr>\n",
       "      <th>3</th>\n",
       "      <td>Graphic Designer</td>\n",
       "      <td>Pillarsconstructions -</td>\n",
       "      <td>Full Time</td>\n",
       "    </tr>\n",
       "    <tr>\n",
       "      <th>4</th>\n",
       "      <td>Graphic Designer</td>\n",
       "      <td>PPLMX -</td>\n",
       "      <td>Full Time</td>\n",
       "    </tr>\n",
       "    <tr>\n",
       "      <th>5</th>\n",
       "      <td>Graphic Designer</td>\n",
       "      <td>More -</td>\n",
       "      <td>Full Time</td>\n",
       "    </tr>\n",
       "    <tr>\n",
       "      <th>6</th>\n",
       "      <td>2D Concept Artist</td>\n",
       "      <td>Solutions -</td>\n",
       "      <td>Full Time</td>\n",
       "    </tr>\n",
       "    <tr>\n",
       "      <th>7</th>\n",
       "      <td>Senior Graphic Designer</td>\n",
       "      <td>Confidential -</td>\n",
       "      <td>Full Time</td>\n",
       "    </tr>\n",
       "    <tr>\n",
       "      <th>8</th>\n",
       "      <td>Senior UI UX Designer</td>\n",
       "      <td>The Address Investments for Real Estate Consul...</td>\n",
       "      <td>Full Time</td>\n",
       "    </tr>\n",
       "    <tr>\n",
       "      <th>9</th>\n",
       "      <td>Graphic Designer</td>\n",
       "      <td>COLORS -</td>\n",
       "      <td>Full Time</td>\n",
       "    </tr>\n",
       "    <tr>\n",
       "      <th>10</th>\n",
       "      <td>Junior Graphic Designer</td>\n",
       "      <td>Confidential -</td>\n",
       "      <td>Full Time</td>\n",
       "    </tr>\n",
       "    <tr>\n",
       "      <th>11</th>\n",
       "      <td>Motion Graphic Instructor (Part-time)</td>\n",
       "      <td>Arabic Localizer -</td>\n",
       "      <td>Part Time</td>\n",
       "    </tr>\n",
       "    <tr>\n",
       "      <th>12</th>\n",
       "      <td>Senior UX Designer</td>\n",
       "      <td>Sarmady -</td>\n",
       "      <td>Full Time</td>\n",
       "    </tr>\n",
       "    <tr>\n",
       "      <th>13</th>\n",
       "      <td>E-Commerce Graphic Designer</td>\n",
       "      <td>La Casa Egypt -</td>\n",
       "      <td>Full Time</td>\n",
       "    </tr>\n",
       "    <tr>\n",
       "      <th>14</th>\n",
       "      <td>Fashion Designer - Patternmaking</td>\n",
       "      <td>Fashion Retail Group -</td>\n",
       "      <td>Full Time</td>\n",
       "    </tr>\n",
       "    <tr>\n",
       "      <th>15</th>\n",
       "      <td>2D Illustrator - Alexandria</td>\n",
       "      <td>Arabic Localizer -</td>\n",
       "      <td>Full Time</td>\n",
       "    </tr>\n",
       "    <tr>\n",
       "      <th>16</th>\n",
       "      <td>Illustrator</td>\n",
       "      <td>ProfileTree -</td>\n",
       "      <td>Full Time</td>\n",
       "    </tr>\n",
       "    <tr>\n",
       "      <th>17</th>\n",
       "      <td>Illustrator</td>\n",
       "      <td>Beyond Insurance Brokerage -</td>\n",
       "      <td>Full Time</td>\n",
       "    </tr>\n",
       "    <tr>\n",
       "      <th>18</th>\n",
       "      <td>Graphic Designer</td>\n",
       "      <td>Pillarsconstructions -</td>\n",
       "      <td>Full Time</td>\n",
       "    </tr>\n",
       "    <tr>\n",
       "      <th>19</th>\n",
       "      <td>Graphic Designer</td>\n",
       "      <td>PPLMX -</td>\n",
       "      <td>Full Time</td>\n",
       "    </tr>\n",
       "    <tr>\n",
       "      <th>20</th>\n",
       "      <td>Graphic Designer</td>\n",
       "      <td>More -</td>\n",
       "      <td>Full Time</td>\n",
       "    </tr>\n",
       "    <tr>\n",
       "      <th>21</th>\n",
       "      <td>2D Concept Artist</td>\n",
       "      <td>Solutions -</td>\n",
       "      <td>Full Time</td>\n",
       "    </tr>\n",
       "    <tr>\n",
       "      <th>22</th>\n",
       "      <td>Senior Graphic Designer</td>\n",
       "      <td>Confidential -</td>\n",
       "      <td>Full Time</td>\n",
       "    </tr>\n",
       "    <tr>\n",
       "      <th>23</th>\n",
       "      <td>Senior UI UX Designer</td>\n",
       "      <td>The Address Investments for Real Estate Consul...</td>\n",
       "      <td>Full Time</td>\n",
       "    </tr>\n",
       "    <tr>\n",
       "      <th>24</th>\n",
       "      <td>Graphic Designer</td>\n",
       "      <td>COLORS -</td>\n",
       "      <td>Full Time</td>\n",
       "    </tr>\n",
       "    <tr>\n",
       "      <th>25</th>\n",
       "      <td>Junior Graphic Designer</td>\n",
       "      <td>Confidential -</td>\n",
       "      <td>Full Time</td>\n",
       "    </tr>\n",
       "    <tr>\n",
       "      <th>26</th>\n",
       "      <td>Motion Graphic Instructor (Part-time)</td>\n",
       "      <td>Arabic Localizer -</td>\n",
       "      <td>Part Time</td>\n",
       "    </tr>\n",
       "    <tr>\n",
       "      <th>27</th>\n",
       "      <td>Senior UX Designer</td>\n",
       "      <td>Sarmady -</td>\n",
       "      <td>Full Time</td>\n",
       "    </tr>\n",
       "    <tr>\n",
       "      <th>28</th>\n",
       "      <td>E-Commerce Graphic Designer</td>\n",
       "      <td>La Casa Egypt -</td>\n",
       "      <td>Full Time</td>\n",
       "    </tr>\n",
       "    <tr>\n",
       "      <th>29</th>\n",
       "      <td>Fashion Designer - Patternmaking</td>\n",
       "      <td>Fashion Retail Group -</td>\n",
       "      <td>Full Time</td>\n",
       "    </tr>\n",
       "    <tr>\n",
       "      <th>30</th>\n",
       "      <td>2D Illustrator - Alexandria</td>\n",
       "      <td>Arabic Localizer -</td>\n",
       "      <td>Full Time</td>\n",
       "    </tr>\n",
       "    <tr>\n",
       "      <th>31</th>\n",
       "      <td>Illustrator</td>\n",
       "      <td>ProfileTree -</td>\n",
       "      <td>Full Time</td>\n",
       "    </tr>\n",
       "    <tr>\n",
       "      <th>32</th>\n",
       "      <td>Illustrator</td>\n",
       "      <td>Beyond Insurance Brokerage -</td>\n",
       "      <td>Full Time</td>\n",
       "    </tr>\n",
       "    <tr>\n",
       "      <th>33</th>\n",
       "      <td>Graphic Designer</td>\n",
       "      <td>Pillarsconstructions -</td>\n",
       "      <td>Full Time</td>\n",
       "    </tr>\n",
       "    <tr>\n",
       "      <th>34</th>\n",
       "      <td>Graphic Designer</td>\n",
       "      <td>PPLMX -</td>\n",
       "      <td>Full Time</td>\n",
       "    </tr>\n",
       "    <tr>\n",
       "      <th>35</th>\n",
       "      <td>Graphic Designer</td>\n",
       "      <td>More -</td>\n",
       "      <td>Full Time</td>\n",
       "    </tr>\n",
       "    <tr>\n",
       "      <th>36</th>\n",
       "      <td>2D Concept Artist</td>\n",
       "      <td>Solutions -</td>\n",
       "      <td>Full Time</td>\n",
       "    </tr>\n",
       "    <tr>\n",
       "      <th>37</th>\n",
       "      <td>Senior Graphic Designer</td>\n",
       "      <td>Confidential -</td>\n",
       "      <td>Full Time</td>\n",
       "    </tr>\n",
       "    <tr>\n",
       "      <th>38</th>\n",
       "      <td>Senior UI UX Designer</td>\n",
       "      <td>The Address Investments for Real Estate Consul...</td>\n",
       "      <td>Full Time</td>\n",
       "    </tr>\n",
       "    <tr>\n",
       "      <th>39</th>\n",
       "      <td>Graphic Designer</td>\n",
       "      <td>COLORS -</td>\n",
       "      <td>Full Time</td>\n",
       "    </tr>\n",
       "    <tr>\n",
       "      <th>40</th>\n",
       "      <td>Junior Graphic Designer</td>\n",
       "      <td>Confidential -</td>\n",
       "      <td>Full Time</td>\n",
       "    </tr>\n",
       "    <tr>\n",
       "      <th>41</th>\n",
       "      <td>Motion Graphic Instructor (Part-time)</td>\n",
       "      <td>Arabic Localizer -</td>\n",
       "      <td>Part Time</td>\n",
       "    </tr>\n",
       "    <tr>\n",
       "      <th>42</th>\n",
       "      <td>Senior UX Designer</td>\n",
       "      <td>Sarmady -</td>\n",
       "      <td>Full Time</td>\n",
       "    </tr>\n",
       "    <tr>\n",
       "      <th>43</th>\n",
       "      <td>E-Commerce Graphic Designer</td>\n",
       "      <td>La Casa Egypt -</td>\n",
       "      <td>Full Time</td>\n",
       "    </tr>\n",
       "    <tr>\n",
       "      <th>44</th>\n",
       "      <td>Fashion Designer - Patternmaking</td>\n",
       "      <td>Fashion Retail Group -</td>\n",
       "      <td>Full Time</td>\n",
       "    </tr>\n",
       "  </tbody>\n",
       "</table>\n",
       "</div>"
      ],
      "text/plain": [
       "                                job_title  \\\n",
       "0             2D Illustrator - Alexandria   \n",
       "1                             Illustrator   \n",
       "2                             Illustrator   \n",
       "3                        Graphic Designer   \n",
       "4                        Graphic Designer   \n",
       "5                        Graphic Designer   \n",
       "6                       2D Concept Artist   \n",
       "7                 Senior Graphic Designer   \n",
       "8                   Senior UI UX Designer   \n",
       "9                        Graphic Designer   \n",
       "10                Junior Graphic Designer   \n",
       "11  Motion Graphic Instructor (Part-time)   \n",
       "12                     Senior UX Designer   \n",
       "13            E-Commerce Graphic Designer   \n",
       "14       Fashion Designer - Patternmaking   \n",
       "15            2D Illustrator - Alexandria   \n",
       "16                            Illustrator   \n",
       "17                            Illustrator   \n",
       "18                       Graphic Designer   \n",
       "19                       Graphic Designer   \n",
       "20                       Graphic Designer   \n",
       "21                      2D Concept Artist   \n",
       "22                Senior Graphic Designer   \n",
       "23                  Senior UI UX Designer   \n",
       "24                       Graphic Designer   \n",
       "25                Junior Graphic Designer   \n",
       "26  Motion Graphic Instructor (Part-time)   \n",
       "27                     Senior UX Designer   \n",
       "28            E-Commerce Graphic Designer   \n",
       "29       Fashion Designer - Patternmaking   \n",
       "30            2D Illustrator - Alexandria   \n",
       "31                            Illustrator   \n",
       "32                            Illustrator   \n",
       "33                       Graphic Designer   \n",
       "34                       Graphic Designer   \n",
       "35                       Graphic Designer   \n",
       "36                      2D Concept Artist   \n",
       "37                Senior Graphic Designer   \n",
       "38                  Senior UI UX Designer   \n",
       "39                       Graphic Designer   \n",
       "40                Junior Graphic Designer   \n",
       "41  Motion Graphic Instructor (Part-time)   \n",
       "42                     Senior UX Designer   \n",
       "43            E-Commerce Graphic Designer   \n",
       "44       Fashion Designer - Patternmaking   \n",
       "\n",
       "                                         company_name   job_type  \n",
       "0                                  Arabic Localizer -  Full Time  \n",
       "1                                       ProfileTree -  Full Time  \n",
       "2                        Beyond Insurance Brokerage -  Full Time  \n",
       "3                              Pillarsconstructions -  Full Time  \n",
       "4                                             PPLMX -  Full Time  \n",
       "5                                              More -  Full Time  \n",
       "6                                         Solutions -  Full Time  \n",
       "7                                      Confidential -  Full Time  \n",
       "8   The Address Investments for Real Estate Consul...  Full Time  \n",
       "9                                            COLORS -  Full Time  \n",
       "10                                     Confidential -  Full Time  \n",
       "11                                 Arabic Localizer -  Part Time  \n",
       "12                                          Sarmady -  Full Time  \n",
       "13                                    La Casa Egypt -  Full Time  \n",
       "14                             Fashion Retail Group -  Full Time  \n",
       "15                                 Arabic Localizer -  Full Time  \n",
       "16                                      ProfileTree -  Full Time  \n",
       "17                       Beyond Insurance Brokerage -  Full Time  \n",
       "18                             Pillarsconstructions -  Full Time  \n",
       "19                                            PPLMX -  Full Time  \n",
       "20                                             More -  Full Time  \n",
       "21                                        Solutions -  Full Time  \n",
       "22                                     Confidential -  Full Time  \n",
       "23  The Address Investments for Real Estate Consul...  Full Time  \n",
       "24                                           COLORS -  Full Time  \n",
       "25                                     Confidential -  Full Time  \n",
       "26                                 Arabic Localizer -  Part Time  \n",
       "27                                          Sarmady -  Full Time  \n",
       "28                                    La Casa Egypt -  Full Time  \n",
       "29                             Fashion Retail Group -  Full Time  \n",
       "30                                 Arabic Localizer -  Full Time  \n",
       "31                                      ProfileTree -  Full Time  \n",
       "32                       Beyond Insurance Brokerage -  Full Time  \n",
       "33                             Pillarsconstructions -  Full Time  \n",
       "34                                            PPLMX -  Full Time  \n",
       "35                                             More -  Full Time  \n",
       "36                                        Solutions -  Full Time  \n",
       "37                                     Confidential -  Full Time  \n",
       "38  The Address Investments for Real Estate Consul...  Full Time  \n",
       "39                                           COLORS -  Full Time  \n",
       "40                                     Confidential -  Full Time  \n",
       "41                                 Arabic Localizer -  Part Time  \n",
       "42                                          Sarmady -  Full Time  \n",
       "43                                    La Casa Egypt -  Full Time  \n",
       "44                             Fashion Retail Group -  Full Time  "
      ]
     },
     "execution_count": 45,
     "metadata": {},
     "output_type": "execute_result"
    }
   ],
   "source": [
    "pd.read_csv(\"Downloads/wuzzufsite.csv\")"
   ]
  },
  {
   "cell_type": "code",
   "execution_count": null,
   "id": "13295fef",
   "metadata": {},
   "outputs": [],
   "source": []
  }
 ],
 "metadata": {
  "kernelspec": {
   "display_name": "Python 3",
   "language": "python",
   "name": "python3"
  },
  "language_info": {
   "codemirror_mode": {
    "name": "ipython",
    "version": 3
   },
   "file_extension": ".py",
   "mimetype": "text/x-python",
   "name": "python",
   "nbconvert_exporter": "python",
   "pygments_lexer": "ipython3",
   "version": "3.8.8"
  }
 },
 "nbformat": 4,
 "nbformat_minor": 5
}
